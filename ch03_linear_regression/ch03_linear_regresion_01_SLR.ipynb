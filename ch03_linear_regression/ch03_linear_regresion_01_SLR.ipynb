{
 "cells": [
  {
   "cell_type": "markdown",
   "metadata": {},
   "source": [
    "#Boston data set\n"
   ]
  },
  {
   "cell_type": "code",
   "execution_count": 2,
   "metadata": {},
   "outputs": [],
   "source": [
    "#Import required libraries\n",
    "\n",
    "import pandas as pd\n",
    "import numpy as np\n",
    "import seaborn as sns\n",
    "import matplotlib.pyplot as plt\n",
    "from mpl_toolkits.mplot3d import axes3d\n",
    "import statsmodels as stats\n",
    "import math\n",
    "import sys\n",
    "\n",
    "%matplotlib inline\n",
    "plt.style.use('seaborn-white')"
   ]
  },
  {
   "cell_type": "code",
   "execution_count": 3,
   "metadata": {},
   "outputs": [
    {
     "name": "stdout",
     "output_type": "stream",
     "text": [
      "My current directory is : c:\\Users\\mywor\\arkadeep\\ISLRv2\\ch03_linear_regression\n",
      "My directory name is : ch03_linear_regression\n"
     ]
    }
   ],
   "source": [
    "import os\n",
    "directory_path = os.getcwd()\n",
    "print(\"My current directory is : \" + directory_path)\n",
    "folder_name = os.path.basename(directory_path)\n",
    "print(\"My directory name is : \" + folder_name)\n"
   ]
  },
  {
   "cell_type": "code",
   "execution_count": 4,
   "metadata": {},
   "outputs": [],
   "source": [
    "from sklearn.preprocessing import scale\n",
    "import sklearn.linear_model as skl_lm\n",
    "from sklearn.metrics import mean_squared_error, r2_score\n",
    "import statsmodels.api as sm\n",
    "import statsmodels.formula.api as smf"
   ]
  },
  {
   "cell_type": "code",
   "execution_count": 1,
   "metadata": {},
   "outputs": [],
   "source": [
    "data_location = \"C:\\\\Users\\\\mywor\\\\arkadeep\\\\ISLRv2\\\\data\\\\all_data_extracted\\\\ALL_CSV_FILES_2nd Edition\\\\\""
   ]
  },
  {
   "cell_type": "code",
   "execution_count": 6,
   "metadata": {},
   "outputs": [
    {
     "data": {
      "text/html": [
       "<div>\n",
       "<style scoped>\n",
       "    .dataframe tbody tr th:only-of-type {\n",
       "        vertical-align: middle;\n",
       "    }\n",
       "\n",
       "    .dataframe tbody tr th {\n",
       "        vertical-align: top;\n",
       "    }\n",
       "\n",
       "    .dataframe thead th {\n",
       "        text-align: right;\n",
       "    }\n",
       "</style>\n",
       "<table border=\"1\" class=\"dataframe\">\n",
       "  <thead>\n",
       "    <tr style=\"text-align: right;\">\n",
       "      <th></th>\n",
       "      <th>crim</th>\n",
       "      <th>zn</th>\n",
       "      <th>indus</th>\n",
       "      <th>chas</th>\n",
       "      <th>nox</th>\n",
       "      <th>rm</th>\n",
       "      <th>age</th>\n",
       "      <th>dis</th>\n",
       "      <th>rad</th>\n",
       "      <th>tax</th>\n",
       "      <th>ptratio</th>\n",
       "      <th>lstat</th>\n",
       "      <th>medv</th>\n",
       "    </tr>\n",
       "  </thead>\n",
       "  <tbody>\n",
       "    <tr>\n",
       "      <th>1</th>\n",
       "      <td>0.00632</td>\n",
       "      <td>18.0</td>\n",
       "      <td>2.31</td>\n",
       "      <td>0</td>\n",
       "      <td>0.538</td>\n",
       "      <td>6.575</td>\n",
       "      <td>65.2</td>\n",
       "      <td>4.0900</td>\n",
       "      <td>1</td>\n",
       "      <td>296</td>\n",
       "      <td>15.3</td>\n",
       "      <td>4.98</td>\n",
       "      <td>24.0</td>\n",
       "    </tr>\n",
       "    <tr>\n",
       "      <th>2</th>\n",
       "      <td>0.02731</td>\n",
       "      <td>0.0</td>\n",
       "      <td>7.07</td>\n",
       "      <td>0</td>\n",
       "      <td>0.469</td>\n",
       "      <td>6.421</td>\n",
       "      <td>78.9</td>\n",
       "      <td>4.9671</td>\n",
       "      <td>2</td>\n",
       "      <td>242</td>\n",
       "      <td>17.8</td>\n",
       "      <td>9.14</td>\n",
       "      <td>21.6</td>\n",
       "    </tr>\n",
       "    <tr>\n",
       "      <th>3</th>\n",
       "      <td>0.02729</td>\n",
       "      <td>0.0</td>\n",
       "      <td>7.07</td>\n",
       "      <td>0</td>\n",
       "      <td>0.469</td>\n",
       "      <td>7.185</td>\n",
       "      <td>61.1</td>\n",
       "      <td>4.9671</td>\n",
       "      <td>2</td>\n",
       "      <td>242</td>\n",
       "      <td>17.8</td>\n",
       "      <td>4.03</td>\n",
       "      <td>34.7</td>\n",
       "    </tr>\n",
       "    <tr>\n",
       "      <th>4</th>\n",
       "      <td>0.03237</td>\n",
       "      <td>0.0</td>\n",
       "      <td>2.18</td>\n",
       "      <td>0</td>\n",
       "      <td>0.458</td>\n",
       "      <td>6.998</td>\n",
       "      <td>45.8</td>\n",
       "      <td>6.0622</td>\n",
       "      <td>3</td>\n",
       "      <td>222</td>\n",
       "      <td>18.7</td>\n",
       "      <td>2.94</td>\n",
       "      <td>33.4</td>\n",
       "    </tr>\n",
       "    <tr>\n",
       "      <th>5</th>\n",
       "      <td>0.06905</td>\n",
       "      <td>0.0</td>\n",
       "      <td>2.18</td>\n",
       "      <td>0</td>\n",
       "      <td>0.458</td>\n",
       "      <td>7.147</td>\n",
       "      <td>54.2</td>\n",
       "      <td>6.0622</td>\n",
       "      <td>3</td>\n",
       "      <td>222</td>\n",
       "      <td>18.7</td>\n",
       "      <td>5.33</td>\n",
       "      <td>36.2</td>\n",
       "    </tr>\n",
       "  </tbody>\n",
       "</table>\n",
       "</div>"
      ],
      "text/plain": [
       "      crim    zn  indus  chas    nox     rm   age     dis  rad  tax  ptratio  \\\n",
       "1  0.00632  18.0   2.31     0  0.538  6.575  65.2  4.0900    1  296     15.3   \n",
       "2  0.02731   0.0   7.07     0  0.469  6.421  78.9  4.9671    2  242     17.8   \n",
       "3  0.02729   0.0   7.07     0  0.469  7.185  61.1  4.9671    2  242     17.8   \n",
       "4  0.03237   0.0   2.18     0  0.458  6.998  45.8  6.0622    3  222     18.7   \n",
       "5  0.06905   0.0   2.18     0  0.458  7.147  54.2  6.0622    3  222     18.7   \n",
       "\n",
       "   lstat  medv  \n",
       "1   4.98  24.0  \n",
       "2   9.14  21.6  \n",
       "3   4.03  34.7  \n",
       "4   2.94  33.4  \n",
       "5   5.33  36.2  "
      ]
     },
     "execution_count": 6,
     "metadata": {},
     "output_type": "execute_result"
    }
   ],
   "source": [
    "df_boston = pd.read_csv(filepath_or_buffer= \"\".join([data_location, \"Boston.csv\"]), index_col=0)\n",
    "df_boston.head()"
   ]
  },
  {
   "attachments": {},
   "cell_type": "markdown",
   "metadata": {},
   "source": [
    "The following describes the dataset columns:\n",
    "\n",
    "CRIM - per capita crime rate by town\n",
    "\n",
    "ZN - proportion of residential land zoned for lots over 25,000 sq.ft.\n",
    "\n",
    "INDUS - proportion of non-retail business acres per town.\n",
    "\n",
    "CHAS - Charles River dummy variable (1 if tract bounds river; 0 otherwise)\n",
    "\n",
    "NOX - nitric oxides concentration (parts per 10 million)\n",
    "\n",
    "RM - average number of rooms per dwelling\n",
    "\n",
    "AGE - proportion of owner-occupied units built prior to 1940\n",
    "\n",
    "DIS - weighted distances to five Boston employment centres\n",
    "\n",
    "RAD - index of accessibility to radial highways\n",
    "\n",
    "TAX - full-value property-tax rate per $10,000\n",
    "\n",
    "PTRATIO - pupil-teacher ratio by town\n",
    "\n",
    "B - 1000(Bk - 0.63)^2 where Bk is the proportion of blacks by town\n",
    "\n",
    "LSTAT - % lower status of the population\n",
    "\n",
    "MEDV - Median value of owner-occupied homes in $1000's\n"
   ]
  },
  {
   "cell_type": "code",
   "execution_count": 7,
   "metadata": {},
   "outputs": [
    {
     "data": {
      "text/html": [
       "<div>\n",
       "<style scoped>\n",
       "    .dataframe tbody tr th:only-of-type {\n",
       "        vertical-align: middle;\n",
       "    }\n",
       "\n",
       "    .dataframe tbody tr th {\n",
       "        vertical-align: top;\n",
       "    }\n",
       "\n",
       "    .dataframe thead th {\n",
       "        text-align: right;\n",
       "    }\n",
       "</style>\n",
       "<table border=\"1\" class=\"dataframe\">\n",
       "  <thead>\n",
       "    <tr style=\"text-align: right;\">\n",
       "      <th></th>\n",
       "      <th>crim</th>\n",
       "      <th>zn</th>\n",
       "      <th>indus</th>\n",
       "      <th>chas</th>\n",
       "      <th>nox</th>\n",
       "      <th>rm</th>\n",
       "      <th>age</th>\n",
       "      <th>dis</th>\n",
       "      <th>rad</th>\n",
       "      <th>tax</th>\n",
       "      <th>ptratio</th>\n",
       "      <th>lstat</th>\n",
       "      <th>medv</th>\n",
       "    </tr>\n",
       "  </thead>\n",
       "  <tbody>\n",
       "    <tr>\n",
       "      <th>count</th>\n",
       "      <td>506.000000</td>\n",
       "      <td>506.000000</td>\n",
       "      <td>506.000000</td>\n",
       "      <td>506.000000</td>\n",
       "      <td>506.000000</td>\n",
       "      <td>506.000000</td>\n",
       "      <td>506.000000</td>\n",
       "      <td>506.000000</td>\n",
       "      <td>506.000000</td>\n",
       "      <td>506.000000</td>\n",
       "      <td>506.000000</td>\n",
       "      <td>506.000000</td>\n",
       "      <td>506.000000</td>\n",
       "    </tr>\n",
       "    <tr>\n",
       "      <th>mean</th>\n",
       "      <td>3.613524</td>\n",
       "      <td>11.363636</td>\n",
       "      <td>11.136779</td>\n",
       "      <td>0.069170</td>\n",
       "      <td>0.554695</td>\n",
       "      <td>6.284634</td>\n",
       "      <td>68.574901</td>\n",
       "      <td>3.795043</td>\n",
       "      <td>9.549407</td>\n",
       "      <td>408.237154</td>\n",
       "      <td>18.455534</td>\n",
       "      <td>12.653063</td>\n",
       "      <td>22.532806</td>\n",
       "    </tr>\n",
       "    <tr>\n",
       "      <th>std</th>\n",
       "      <td>8.601545</td>\n",
       "      <td>23.322453</td>\n",
       "      <td>6.860353</td>\n",
       "      <td>0.253994</td>\n",
       "      <td>0.115878</td>\n",
       "      <td>0.702617</td>\n",
       "      <td>28.148861</td>\n",
       "      <td>2.105710</td>\n",
       "      <td>8.707259</td>\n",
       "      <td>168.537116</td>\n",
       "      <td>2.164946</td>\n",
       "      <td>7.141062</td>\n",
       "      <td>9.197104</td>\n",
       "    </tr>\n",
       "    <tr>\n",
       "      <th>min</th>\n",
       "      <td>0.006320</td>\n",
       "      <td>0.000000</td>\n",
       "      <td>0.460000</td>\n",
       "      <td>0.000000</td>\n",
       "      <td>0.385000</td>\n",
       "      <td>3.561000</td>\n",
       "      <td>2.900000</td>\n",
       "      <td>1.129600</td>\n",
       "      <td>1.000000</td>\n",
       "      <td>187.000000</td>\n",
       "      <td>12.600000</td>\n",
       "      <td>1.730000</td>\n",
       "      <td>5.000000</td>\n",
       "    </tr>\n",
       "    <tr>\n",
       "      <th>25%</th>\n",
       "      <td>0.082045</td>\n",
       "      <td>0.000000</td>\n",
       "      <td>5.190000</td>\n",
       "      <td>0.000000</td>\n",
       "      <td>0.449000</td>\n",
       "      <td>5.885500</td>\n",
       "      <td>45.025000</td>\n",
       "      <td>2.100175</td>\n",
       "      <td>4.000000</td>\n",
       "      <td>279.000000</td>\n",
       "      <td>17.400000</td>\n",
       "      <td>6.950000</td>\n",
       "      <td>17.025000</td>\n",
       "    </tr>\n",
       "    <tr>\n",
       "      <th>50%</th>\n",
       "      <td>0.256510</td>\n",
       "      <td>0.000000</td>\n",
       "      <td>9.690000</td>\n",
       "      <td>0.000000</td>\n",
       "      <td>0.538000</td>\n",
       "      <td>6.208500</td>\n",
       "      <td>77.500000</td>\n",
       "      <td>3.207450</td>\n",
       "      <td>5.000000</td>\n",
       "      <td>330.000000</td>\n",
       "      <td>19.050000</td>\n",
       "      <td>11.360000</td>\n",
       "      <td>21.200000</td>\n",
       "    </tr>\n",
       "    <tr>\n",
       "      <th>75%</th>\n",
       "      <td>3.677083</td>\n",
       "      <td>12.500000</td>\n",
       "      <td>18.100000</td>\n",
       "      <td>0.000000</td>\n",
       "      <td>0.624000</td>\n",
       "      <td>6.623500</td>\n",
       "      <td>94.075000</td>\n",
       "      <td>5.188425</td>\n",
       "      <td>24.000000</td>\n",
       "      <td>666.000000</td>\n",
       "      <td>20.200000</td>\n",
       "      <td>16.955000</td>\n",
       "      <td>25.000000</td>\n",
       "    </tr>\n",
       "    <tr>\n",
       "      <th>max</th>\n",
       "      <td>88.976200</td>\n",
       "      <td>100.000000</td>\n",
       "      <td>27.740000</td>\n",
       "      <td>1.000000</td>\n",
       "      <td>0.871000</td>\n",
       "      <td>8.780000</td>\n",
       "      <td>100.000000</td>\n",
       "      <td>12.126500</td>\n",
       "      <td>24.000000</td>\n",
       "      <td>711.000000</td>\n",
       "      <td>22.000000</td>\n",
       "      <td>37.970000</td>\n",
       "      <td>50.000000</td>\n",
       "    </tr>\n",
       "  </tbody>\n",
       "</table>\n",
       "</div>"
      ],
      "text/plain": [
       "             crim          zn       indus        chas         nox          rm  \\\n",
       "count  506.000000  506.000000  506.000000  506.000000  506.000000  506.000000   \n",
       "mean     3.613524   11.363636   11.136779    0.069170    0.554695    6.284634   \n",
       "std      8.601545   23.322453    6.860353    0.253994    0.115878    0.702617   \n",
       "min      0.006320    0.000000    0.460000    0.000000    0.385000    3.561000   \n",
       "25%      0.082045    0.000000    5.190000    0.000000    0.449000    5.885500   \n",
       "50%      0.256510    0.000000    9.690000    0.000000    0.538000    6.208500   \n",
       "75%      3.677083   12.500000   18.100000    0.000000    0.624000    6.623500   \n",
       "max     88.976200  100.000000   27.740000    1.000000    0.871000    8.780000   \n",
       "\n",
       "              age         dis         rad         tax     ptratio       lstat  \\\n",
       "count  506.000000  506.000000  506.000000  506.000000  506.000000  506.000000   \n",
       "mean    68.574901    3.795043    9.549407  408.237154   18.455534   12.653063   \n",
       "std     28.148861    2.105710    8.707259  168.537116    2.164946    7.141062   \n",
       "min      2.900000    1.129600    1.000000  187.000000   12.600000    1.730000   \n",
       "25%     45.025000    2.100175    4.000000  279.000000   17.400000    6.950000   \n",
       "50%     77.500000    3.207450    5.000000  330.000000   19.050000   11.360000   \n",
       "75%     94.075000    5.188425   24.000000  666.000000   20.200000   16.955000   \n",
       "max    100.000000   12.126500   24.000000  711.000000   22.000000   37.970000   \n",
       "\n",
       "             medv  \n",
       "count  506.000000  \n",
       "mean    22.532806  \n",
       "std      9.197104  \n",
       "min      5.000000  \n",
       "25%     17.025000  \n",
       "50%     21.200000  \n",
       "75%     25.000000  \n",
       "max     50.000000  "
      ]
     },
     "execution_count": 7,
     "metadata": {},
     "output_type": "execute_result"
    }
   ],
   "source": [
    "df_boston.describe(include='all')"
   ]
  },
  {
   "cell_type": "code",
   "execution_count": 8,
   "metadata": {},
   "outputs": [
    {
     "name": "stdout",
     "output_type": "stream",
     "text": [
      "[34.55384088]\n",
      "[[-0.95004935]]\n"
     ]
    }
   ],
   "source": [
    "# Using scikit-learn\n",
    "regr = skl_lm.LinearRegression()\n",
    "\n",
    "X = df_boston.lstat.values.reshape(-1,1)\n",
    "y = df_boston.medv.values.reshape(-1,1)\n",
    "\n",
    "regr.fit(X,y)\n",
    "print(regr.intercept_)\n",
    "print(regr.coef_)"
   ]
  },
  {
   "cell_type": "code",
   "execution_count": 9,
   "metadata": {},
   "outputs": [
    {
     "data": {
      "text/plain": [
       "<AxesSubplot:>"
      ]
     },
     "execution_count": 9,
     "metadata": {},
     "output_type": "execute_result"
    },
    {
     "data": {
      "image/png": "[encoded data removed]",
      "text/plain": [
       "<Figure size 640x480 with 1 Axes>"
      ]
     },
     "metadata": {},
     "output_type": "display_data"
    }
   ],
   "source": [
    "sns.regplot(x=X,y=y)"
   ]
  },
  {
   "cell_type": "code",
   "execution_count": 10,
   "metadata": {},
   "outputs": [
    {
     "data": {
      "text/plain": [
       "38.48296722989414"
      ]
     },
     "execution_count": 10,
     "metadata": {},
     "output_type": "execute_result"
    }
   ],
   "source": [
    "mean_squared_error(y,regr.predict(X))"
   ]
  },
  {
   "cell_type": "code",
   "execution_count": 11,
   "metadata": {},
   "outputs": [
    {
     "data": {
      "text/plain": [
       "0.5441462975864799"
      ]
     },
     "execution_count": 11,
     "metadata": {},
     "output_type": "execute_result"
    }
   ],
   "source": [
    "r2_score(y,regr.predict(X))"
   ]
  },
  {
   "cell_type": "code",
   "execution_count": 12,
   "metadata": {},
   "outputs": [
    {
     "data": {
      "text/html": [
       "<table class=\"simpletable\">\n",
       "<caption>OLS Regression Results</caption>\n",
       "<tr>\n",
       "  <th>Dep. Variable:</th>          <td>medv</td>       <th>  R-squared:         </th> <td>   0.544</td>\n",
       "</tr>\n",
       "<tr>\n",
       "  <th>Model:</th>                   <td>OLS</td>       <th>  Adj. R-squared:    </th> <td>   0.543</td>\n",
       "</tr>\n",
       "<tr>\n",
       "  <th>Method:</th>             <td>Least Squares</td>  <th>  F-statistic:       </th> <td>   601.6</td>\n",
       "</tr>\n",
       "<tr>\n",
       "  <th>Date:</th>             <td>Mon, 02 Jan 2023</td> <th>  Prob (F-statistic):</th> <td>5.08e-88</td>\n",
       "</tr>\n",
       "<tr>\n",
       "  <th>Time:</th>                 <td>21:31:50</td>     <th>  Log-Likelihood:    </th> <td> -1641.5</td>\n",
       "</tr>\n",
       "<tr>\n",
       "  <th>No. Observations:</th>      <td>   506</td>      <th>  AIC:               </th> <td>   3287.</td>\n",
       "</tr>\n",
       "<tr>\n",
       "  <th>Df Residuals:</th>          <td>   504</td>      <th>  BIC:               </th> <td>   3295.</td>\n",
       "</tr>\n",
       "<tr>\n",
       "  <th>Df Model:</th>              <td>     1</td>      <th>                     </th>     <td> </td>   \n",
       "</tr>\n",
       "<tr>\n",
       "  <th>Covariance Type:</th>      <td>nonrobust</td>    <th>                     </th>     <td> </td>   \n",
       "</tr>\n",
       "</table>\n",
       "<table class=\"simpletable\">\n",
       "<tr>\n",
       "      <td></td>         <th>coef</th>     <th>std err</th>      <th>t</th>      <th>P>|t|</th>  <th>[0.025</th>    <th>0.975]</th>  \n",
       "</tr>\n",
       "<tr>\n",
       "  <th>Intercept</th> <td>   34.5538</td> <td>    0.563</td> <td>   61.415</td> <td> 0.000</td> <td>   33.448</td> <td>   35.659</td>\n",
       "</tr>\n",
       "<tr>\n",
       "  <th>lstat</th>     <td>   -0.9500</td> <td>    0.039</td> <td>  -24.528</td> <td> 0.000</td> <td>   -1.026</td> <td>   -0.874</td>\n",
       "</tr>\n",
       "</table>\n",
       "<table class=\"simpletable\">\n",
       "<tr>\n",
       "  <th>Omnibus:</th>       <td>137.043</td> <th>  Durbin-Watson:     </th> <td>   0.892</td>\n",
       "</tr>\n",
       "<tr>\n",
       "  <th>Prob(Omnibus):</th> <td> 0.000</td>  <th>  Jarque-Bera (JB):  </th> <td> 291.373</td>\n",
       "</tr>\n",
       "<tr>\n",
       "  <th>Skew:</th>          <td> 1.453</td>  <th>  Prob(JB):          </th> <td>5.36e-64</td>\n",
       "</tr>\n",
       "<tr>\n",
       "  <th>Kurtosis:</th>      <td> 5.319</td>  <th>  Cond. No.          </th> <td>    29.7</td>\n",
       "</tr>\n",
       "</table><br/><br/>Notes:<br/>[1] Standard Errors assume that the covariance matrix of the errors is correctly specified."
      ],
      "text/plain": [
       "<class 'statsmodels.iolib.summary.Summary'>\n",
       "\"\"\"\n",
       "                            OLS Regression Results                            \n",
       "==============================================================================\n",
       "Dep. Variable:                   medv   R-squared:                       0.544\n",
       "Model:                            OLS   Adj. R-squared:                  0.543\n",
       "Method:                 Least Squares   F-statistic:                     601.6\n",
       "Date:                Mon, 02 Jan 2023   Prob (F-statistic):           5.08e-88\n",
       "Time:                        21:31:50   Log-Likelihood:                -1641.5\n",
       "No. Observations:                 506   AIC:                             3287.\n",
       "Df Residuals:                     504   BIC:                             3295.\n",
       "Df Model:                           1                                         \n",
       "Covariance Type:            nonrobust                                         \n",
       "==============================================================================\n",
       "                 coef    std err          t      P>|t|      [0.025      0.975]\n",
       "------------------------------------------------------------------------------\n",
       "Intercept     34.5538      0.563     61.415      0.000      33.448      35.659\n",
       "lstat         -0.9500      0.039    -24.528      0.000      -1.026      -0.874\n",
       "==============================================================================\n",
       "Omnibus:                      137.043   Durbin-Watson:                   0.892\n",
       "Prob(Omnibus):                  0.000   Jarque-Bera (JB):              291.373\n",
       "Skew:                           1.453   Prob(JB):                     5.36e-64\n",
       "Kurtosis:                       5.319   Cond. No.                         29.7\n",
       "==============================================================================\n",
       "\n",
       "Notes:\n",
       "[1] Standard Errors assume that the covariance matrix of the errors is correctly specified.\n",
       "\"\"\""
      ]
     },
     "execution_count": 12,
     "metadata": {},
     "output_type": "execute_result"
    }
   ],
   "source": [
    "#using statsmodels\n",
    "regr_model=smf.ols('medv ~ lstat', df_boston)\n",
    "regr_fit = regr_model.fit()\n",
    "regr_fit.summary()"
   ]
  },
  {
   "cell_type": "code",
   "execution_count": 13,
   "metadata": {},
   "outputs": [
    {
     "data": {
      "text/plain": [
       "['HC0_se',\n",
       " 'HC1_se',\n",
       " 'HC2_se',\n",
       " 'HC3_se',\n",
       " '_HCCM',\n",
       " '__class__',\n",
       " '__delattr__',\n",
       " '__dict__',\n",
       " '__dir__',\n",
       " '__doc__',\n",
       " '__eq__',\n",
       " '__format__',\n",
       " '__ge__',\n",
       " '__getattribute__',\n",
       " '__gt__',\n",
       " '__hash__',\n",
       " '__init__',\n",
       " '__init_subclass__',\n",
       " '__le__',\n",
       " '__lt__',\n",
       " '__module__',\n",
       " '__ne__',\n",
       " '__new__',\n",
       " '__reduce__',\n",
       " '__reduce_ex__',\n",
       " '__repr__',\n",
       " '__setattr__',\n",
       " '__sizeof__',\n",
       " '__str__',\n",
       " '__subclasshook__',\n",
       " '__weakref__',\n",
       " '_abat_diagonal',\n",
       " '_cache',\n",
       " '_data_attr',\n",
       " '_data_in_cache',\n",
       " '_get_robustcov_results',\n",
       " '_is_nested',\n",
       " '_use_t',\n",
       " '_wexog_singular_values',\n",
       " 'aic',\n",
       " 'bic',\n",
       " 'bse',\n",
       " 'centered_tss',\n",
       " 'compare_f_test',\n",
       " 'compare_lm_test',\n",
       " 'compare_lr_test',\n",
       " 'condition_number',\n",
       " 'conf_int',\n",
       " 'conf_int_el',\n",
       " 'cov_HC0',\n",
       " 'cov_HC1',\n",
       " 'cov_HC2',\n",
       " 'cov_HC3',\n",
       " 'cov_kwds',\n",
       " 'cov_params',\n",
       " 'cov_type',\n",
       " 'df_model',\n",
       " 'df_resid',\n",
       " 'diagn',\n",
       " 'eigenvals',\n",
       " 'el_test',\n",
       " 'ess',\n",
       " 'f_pvalue',\n",
       " 'f_test',\n",
       " 'fittedvalues',\n",
       " 'fvalue',\n",
       " 'get_influence',\n",
       " 'get_prediction',\n",
       " 'get_robustcov_results',\n",
       " 'info_criteria',\n",
       " 'initialize',\n",
       " 'k_constant',\n",
       " 'llf',\n",
       " 'load',\n",
       " 'model',\n",
       " 'mse_model',\n",
       " 'mse_resid',\n",
       " 'mse_total',\n",
       " 'nobs',\n",
       " 'normalized_cov_params',\n",
       " 'outlier_test',\n",
       " 'params',\n",
       " 'predict',\n",
       " 'pvalues',\n",
       " 'remove_data',\n",
       " 'resid',\n",
       " 'resid_pearson',\n",
       " 'rsquared',\n",
       " 'rsquared_adj',\n",
       " 'save',\n",
       " 'scale',\n",
       " 'ssr',\n",
       " 'summary',\n",
       " 'summary2',\n",
       " 't_test',\n",
       " 't_test_pairwise',\n",
       " 'tvalues',\n",
       " 'uncentered_tss',\n",
       " 'use_t',\n",
       " 'wald_test',\n",
       " 'wald_test_terms',\n",
       " 'wresid']"
      ]
     },
     "execution_count": 13,
     "metadata": {},
     "output_type": "execute_result"
    }
   ],
   "source": [
    "# dir method returns the list of all attributes of the module\n",
    "dir(regr_fit)"
   ]
  },
  {
   "cell_type": "code",
   "execution_count": 14,
   "metadata": {},
   "outputs": [
    {
     "data": {
      "text/plain": [
       "Intercept    0.562627\n",
       "lstat        0.038733\n",
       "dtype: float64"
      ]
     },
     "execution_count": 14,
     "metadata": {},
     "output_type": "execute_result"
    }
   ],
   "source": [
    "regr_fit.bse"
   ]
  },
  {
   "cell_type": "code",
   "execution_count": 15,
   "metadata": {},
   "outputs": [
    {
     "data": {
      "text/plain": [
       "Intercept    0.755622\n",
       "lstat        0.049792\n",
       "dtype: float64"
      ]
     },
     "execution_count": 15,
     "metadata": {},
     "output_type": "execute_result"
    }
   ],
   "source": [
    "regr_fit.HC2_se"
   ]
  },
  {
   "cell_type": "code",
   "execution_count": 16,
   "metadata": {},
   "outputs": [
    {
     "data": {
      "text/html": [
       "<table class=\"simpletable\">\n",
       "<tr>\n",
       "        <td>Model:</td>               <td>OLS</td>         <td>Adj. R-squared:</td>     <td>0.543</td>  \n",
       "</tr>\n",
       "<tr>\n",
       "  <td>Dependent Variable:</td>       <td>medv</td>              <td>AIC:</td>         <td>3286.9750</td>\n",
       "</tr>\n",
       "<tr>\n",
       "         <td>Date:</td>        <td>2023-01-02 21:31</td>        <td>BIC:</td>         <td>3295.4280</td>\n",
       "</tr>\n",
       "<tr>\n",
       "   <td>No. Observations:</td>         <td>506</td>         <td>Log-Likelihood:</td>    <td>-1641.5</td> \n",
       "</tr>\n",
       "<tr>\n",
       "       <td>Df Model:</td>              <td>1</td>           <td>F-statistic:</td>       <td>601.6</td>  \n",
       "</tr>\n",
       "<tr>\n",
       "     <td>Df Residuals:</td>           <td>504</td>       <td>Prob (F-statistic):</td> <td>5.08e-88</td> \n",
       "</tr>\n",
       "<tr>\n",
       "      <td>R-squared:</td>            <td>0.544</td>            <td>Scale:</td>         <td>38.636</td>  \n",
       "</tr>\n",
       "</table>\n",
       "<table class=\"simpletable\">\n",
       "<tr>\n",
       "      <td></td>       <th>Coef.</th>  <th>Std.Err.</th>     <th>t</th>     <th>P>|t|</th> <th>[0.025</th>  <th>0.975]</th> \n",
       "</tr>\n",
       "<tr>\n",
       "  <th>Intercept</th> <td>34.5538</td>  <td>0.5626</td>   <td>61.4151</td> <td>0.0000</td> <td>33.4485</td> <td>35.6592</td>\n",
       "</tr>\n",
       "<tr>\n",
       "  <th>lstat</th>     <td>-0.9500</td>  <td>0.0387</td>  <td>-24.5279</td> <td>0.0000</td> <td>-1.0261</td> <td>-0.8740</td>\n",
       "</tr>\n",
       "</table>\n",
       "<table class=\"simpletable\">\n",
       "<tr>\n",
       "     <td>Omnibus:</td>    <td>137.043</td>  <td>Durbin-Watson:</td>    <td>0.892</td> \n",
       "</tr>\n",
       "<tr>\n",
       "  <td>Prob(Omnibus):</td>  <td>0.000</td>  <td>Jarque-Bera (JB):</td> <td>291.373</td>\n",
       "</tr>\n",
       "<tr>\n",
       "       <td>Skew:</td>      <td>1.453</td>      <td>Prob(JB):</td>      <td>0.000</td> \n",
       "</tr>\n",
       "<tr>\n",
       "     <td>Kurtosis:</td>    <td>5.319</td>   <td>Condition No.:</td>     <td>30</td>   \n",
       "</tr>\n",
       "</table>"
      ],
      "text/plain": [
       "<class 'statsmodels.iolib.summary2.Summary'>\n",
       "\"\"\"\n",
       "                 Results: Ordinary least squares\n",
       "==================================================================\n",
       "Model:              OLS              Adj. R-squared:     0.543    \n",
       "Dependent Variable: medv             AIC:                3286.9750\n",
       "Date:               2023-01-02 21:31 BIC:                3295.4280\n",
       "No. Observations:   506              Log-Likelihood:     -1641.5  \n",
       "Df Model:           1                F-statistic:        601.6    \n",
       "Df Residuals:       504              Prob (F-statistic): 5.08e-88 \n",
       "R-squared:          0.544            Scale:              38.636   \n",
       "-------------------------------------------------------------------\n",
       "               Coef.   Std.Err.     t      P>|t|    [0.025   0.975]\n",
       "-------------------------------------------------------------------\n",
       "Intercept     34.5538    0.5626   61.4151  0.0000  33.4485  35.6592\n",
       "lstat         -0.9500    0.0387  -24.5279  0.0000  -1.0261  -0.8740\n",
       "------------------------------------------------------------------\n",
       "Omnibus:             137.043       Durbin-Watson:          0.892  \n",
       "Prob(Omnibus):       0.000         Jarque-Bera (JB):       291.373\n",
       "Skew:                1.453         Prob(JB):               0.000  \n",
       "Kurtosis:            5.319         Condition No.:          30     \n",
       "==================================================================\n",
       "\n",
       "\"\"\""
      ]
     },
     "execution_count": 16,
     "metadata": {},
     "output_type": "execute_result"
    }
   ],
   "source": [
    "regr_fit.summary2()"
   ]
  },
  {
   "cell_type": "code",
   "execution_count": 17,
   "metadata": {},
   "outputs": [
    {
     "data": {
      "text/plain": [
       "6.215760405398069"
      ]
     },
     "execution_count": 17,
     "metadata": {},
     "output_type": "execute_result"
    }
   ],
   "source": [
    "# residual standard error\n",
    "# obtained by square root of regr_fit.scale\n",
    "regr_fit.scale**.5"
   ]
  },
  {
   "cell_type": "code",
   "execution_count": 18,
   "metadata": {},
   "outputs": [
    {
     "data": {
      "text/plain": [
       "6.215760405398068"
      ]
     },
     "execution_count": 18,
     "metadata": {},
     "output_type": "execute_result"
    }
   ],
   "source": [
    "# square root of (sum of residuals squared/degrees_of_freedom)\n",
    "np.sqrt(np.sum(regr_fit.resid**2)/regr_fit.df_resid)"
   ]
  },
  {
   "cell_type": "code",
   "execution_count": 19,
   "metadata": {},
   "outputs": [
    {
     "data": {
      "text/plain": [
       "23243.91399669333"
      ]
     },
     "execution_count": 19,
     "metadata": {},
     "output_type": "execute_result"
    }
   ],
   "source": [
    "# mean sq error of model?\n",
    "regr_fit.mse_model"
   ]
  },
  {
   "cell_type": "code",
   "execution_count": 20,
   "metadata": {},
   "outputs": [
    {
     "data": {
      "text/html": [
       "<div>\n",
       "<style scoped>\n",
       "    .dataframe tbody tr th:only-of-type {\n",
       "        vertical-align: middle;\n",
       "    }\n",
       "\n",
       "    .dataframe tbody tr th {\n",
       "        vertical-align: top;\n",
       "    }\n",
       "\n",
       "    .dataframe thead th {\n",
       "        text-align: right;\n",
       "    }\n",
       "</style>\n",
       "<table border=\"1\" class=\"dataframe\">\n",
       "  <thead>\n",
       "    <tr style=\"text-align: right;\">\n",
       "      <th></th>\n",
       "      <th>0</th>\n",
       "      <th>1</th>\n",
       "    </tr>\n",
       "  </thead>\n",
       "  <tbody>\n",
       "    <tr>\n",
       "      <th>Intercept</th>\n",
       "      <td>33.448457</td>\n",
       "      <td>35.659225</td>\n",
       "    </tr>\n",
       "    <tr>\n",
       "      <th>lstat</th>\n",
       "      <td>-1.026148</td>\n",
       "      <td>-0.873951</td>\n",
       "    </tr>\n",
       "  </tbody>\n",
       "</table>\n",
       "</div>"
      ],
      "text/plain": [
       "                   0          1\n",
       "Intercept  33.448457  35.659225\n",
       "lstat      -1.026148  -0.873951"
      ]
     },
     "execution_count": 20,
     "metadata": {},
     "output_type": "execute_result"
    }
   ],
   "source": [
    "# confidence interval of the coefficients (95%)\n",
    "regr_fit.conf_int()"
   ]
  },
  {
   "cell_type": "code",
   "execution_count": 21,
   "metadata": {},
   "outputs": [
    {
     "data": {
      "text/plain": [
       "1      29.822595\n",
       "2      25.870390\n",
       "3      30.725142\n",
       "4      31.760696\n",
       "5      29.490078\n",
       "         ...    \n",
       "502    25.366864\n",
       "503    25.927393\n",
       "504    29.195563\n",
       "505    28.397521\n",
       "506    27.067452\n",
       "Length: 506, dtype: float64"
      ]
     },
     "execution_count": 21,
     "metadata": {},
     "output_type": "execute_result"
    }
   ],
   "source": [
    "# get the fitted values on the training dataset\n",
    "regr_fit.fittedvalues"
   ]
  },
  {
   "cell_type": "code",
   "execution_count": 22,
   "metadata": {},
   "outputs": [
    {
     "data": {
      "text/plain": [
       "0    29.803594\n",
       "1    25.053347\n",
       "2    20.303101\n",
       "dtype: float64"
      ]
     },
     "execution_count": 22,
     "metadata": {},
     "output_type": "execute_result"
    }
   ],
   "source": [
    "# getting a prediction from the model\n",
    "regr_fit.predict(pd.DataFrame({'lstat': [5,10,15]}))"
   ]
  },
  {
   "cell_type": "code",
   "execution_count": 23,
   "metadata": {},
   "outputs": [],
   "source": [
    "#prediction = model.get_prediction(exog=dict(x=[5,10,25]))\n",
    "prediction = regr_fit.get_prediction(exog=dict(lstat=[5,10,25]))"
   ]
  },
  {
   "cell_type": "code",
   "execution_count": 24,
   "metadata": {},
   "outputs": [
    {
     "data": {
      "text/html": [
       "<div>\n",
       "<style scoped>\n",
       "    .dataframe tbody tr th:only-of-type {\n",
       "        vertical-align: middle;\n",
       "    }\n",
       "\n",
       "    .dataframe tbody tr th {\n",
       "        vertical-align: top;\n",
       "    }\n",
       "\n",
       "    .dataframe thead th {\n",
       "        text-align: right;\n",
       "    }\n",
       "</style>\n",
       "<table border=\"1\" class=\"dataframe\">\n",
       "  <thead>\n",
       "    <tr style=\"text-align: right;\">\n",
       "      <th></th>\n",
       "      <th>mean</th>\n",
       "      <th>mean_se</th>\n",
       "      <th>mean_ci_lower</th>\n",
       "      <th>mean_ci_upper</th>\n",
       "      <th>obs_ci_lower</th>\n",
       "      <th>obs_ci_upper</th>\n",
       "    </tr>\n",
       "  </thead>\n",
       "  <tbody>\n",
       "    <tr>\n",
       "      <th>0</th>\n",
       "      <td>29.803594</td>\n",
       "      <td>0.405247</td>\n",
       "      <td>29.007412</td>\n",
       "      <td>30.599776</td>\n",
       "      <td>17.565675</td>\n",
       "      <td>42.041513</td>\n",
       "    </tr>\n",
       "    <tr>\n",
       "      <th>1</th>\n",
       "      <td>25.053347</td>\n",
       "      <td>0.294814</td>\n",
       "      <td>24.474132</td>\n",
       "      <td>25.632563</td>\n",
       "      <td>12.827626</td>\n",
       "      <td>37.279068</td>\n",
       "    </tr>\n",
       "    <tr>\n",
       "      <th>2</th>\n",
       "      <td>10.802607</td>\n",
       "      <td>0.552329</td>\n",
       "      <td>9.717456</td>\n",
       "      <td>11.887759</td>\n",
       "      <td>-1.457504</td>\n",
       "      <td>23.062718</td>\n",
       "    </tr>\n",
       "  </tbody>\n",
       "</table>\n",
       "</div>"
      ],
      "text/plain": [
       "        mean   mean_se  mean_ci_lower  mean_ci_upper  obs_ci_lower  \\\n",
       "0  29.803594  0.405247      29.007412      30.599776     17.565675   \n",
       "1  25.053347  0.294814      24.474132      25.632563     12.827626   \n",
       "2  10.802607  0.552329       9.717456      11.887759     -1.457504   \n",
       "\n",
       "   obs_ci_upper  \n",
       "0     42.041513  \n",
       "1     37.279068  \n",
       "2     23.062718  "
      ]
     },
     "execution_count": 24,
     "metadata": {},
     "output_type": "execute_result"
    }
   ],
   "source": [
    "# getting the confidence interval and prediction interval\n",
    "prediction.summary_frame()"
   ]
  },
  {
   "cell_type": "code",
   "execution_count": 25,
   "metadata": {},
   "outputs": [
    {
     "data": {
      "text/html": [
       "<div>\n",
       "<style scoped>\n",
       "    .dataframe tbody tr th:only-of-type {\n",
       "        vertical-align: middle;\n",
       "    }\n",
       "\n",
       "    .dataframe tbody tr th {\n",
       "        vertical-align: top;\n",
       "    }\n",
       "\n",
       "    .dataframe thead th {\n",
       "        text-align: right;\n",
       "    }\n",
       "</style>\n",
       "<table border=\"1\" class=\"dataframe\">\n",
       "  <thead>\n",
       "    <tr style=\"text-align: right;\">\n",
       "      <th></th>\n",
       "      <th>mean</th>\n",
       "      <th>mean_se</th>\n",
       "      <th>mean_ci_lower</th>\n",
       "      <th>mean_ci_upper</th>\n",
       "      <th>obs_ci_lower</th>\n",
       "      <th>obs_ci_upper</th>\n",
       "    </tr>\n",
       "  </thead>\n",
       "  <tbody>\n",
       "    <tr>\n",
       "      <th>0</th>\n",
       "      <td>29.803594</td>\n",
       "      <td>0.405247</td>\n",
       "      <td>29.007412</td>\n",
       "      <td>30.599776</td>\n",
       "      <td>17.565675</td>\n",
       "      <td>42.041513</td>\n",
       "    </tr>\n",
       "    <tr>\n",
       "      <th>1</th>\n",
       "      <td>25.053347</td>\n",
       "      <td>0.294814</td>\n",
       "      <td>24.474132</td>\n",
       "      <td>25.632563</td>\n",
       "      <td>12.827626</td>\n",
       "      <td>37.279068</td>\n",
       "    </tr>\n",
       "    <tr>\n",
       "      <th>2</th>\n",
       "      <td>10.802607</td>\n",
       "      <td>0.552329</td>\n",
       "      <td>9.717456</td>\n",
       "      <td>11.887759</td>\n",
       "      <td>-1.457504</td>\n",
       "      <td>23.062718</td>\n",
       "    </tr>\n",
       "  </tbody>\n",
       "</table>\n",
       "</div>"
      ],
      "text/plain": [
       "        mean   mean_se  mean_ci_lower  mean_ci_upper  obs_ci_lower  \\\n",
       "0  29.803594  0.405247      29.007412      30.599776     17.565675   \n",
       "1  25.053347  0.294814      24.474132      25.632563     12.827626   \n",
       "2  10.802607  0.552329       9.717456      11.887759     -1.457504   \n",
       "\n",
       "   obs_ci_upper  \n",
       "0     42.041513  \n",
       "1     37.279068  \n",
       "2     23.062718  "
      ]
     },
     "execution_count": 25,
     "metadata": {},
     "output_type": "execute_result"
    }
   ],
   "source": [
    "prediction.summary_frame(alpha=0.05)"
   ]
  },
  {
   "cell_type": "code",
   "execution_count": 26,
   "metadata": {},
   "outputs": [
    {
     "data": {
      "text/plain": [
       "{'mean': array([29.80359411, 25.05334734, 10.80260704]),\n",
       " 'mean_se': array([0.40524735, 0.29481378, 0.55232932]),\n",
       " 'mean_ci_lower': array([29.00741194, 24.47413202,  9.71745557]),\n",
       " 'mean_ci_upper': array([30.59977628, 25.63256267, 11.8877585 ]),\n",
       " 'obs_ci_lower': array([17.56567478, 12.82762635, -1.45750378]),\n",
       " 'obs_ci_upper': array([42.04151344, 37.27906833, 23.06271785])}"
      ]
     },
     "execution_count": 26,
     "metadata": {},
     "output_type": "execute_result"
    }
   ],
   "source": [
    "prediction.table"
   ]
  },
  {
   "cell_type": "code",
   "execution_count": 27,
   "metadata": {},
   "outputs": [
    {
     "name": "stdout",
     "output_type": "stream",
     "text": [
      "eval_env: 1\n"
     ]
    },
    {
     "data": {
      "image/png": "[encoded data removed]",
      "text/plain": [
       "<Figure size 640x480 with 4 Axes>"
      ]
     },
     "metadata": {},
     "output_type": "display_data"
    }
   ],
   "source": [
    "fig = sm.graphics.plot_regress_exog(regr_fit, \"lstat\")\n",
    "fig.tight_layout(pad=1.0)"
   ]
  },
  {
   "cell_type": "code",
   "execution_count": 28,
   "metadata": {},
   "outputs": [
    {
     "data": {
      "text/plain": [
       "<matplotlib.collections.PathCollection at 0x1df0b483e08>"
      ]
     },
     "execution_count": 28,
     "metadata": {},
     "output_type": "execute_result"
    },
    {
     "data": {
      "image/png": "[encoded data removed]",
      "text/plain": [
       "<Figure size 640x480 with 1 Axes>"
      ]
     },
     "metadata": {},
     "output_type": "display_data"
    }
   ],
   "source": [
    "plt.scatter(regr_fit.predict(),regr_fit.resid)"
   ]
  },
  {
   "cell_type": "code",
   "execution_count": 29,
   "metadata": {},
   "outputs": [
    {
     "data": {
      "text/plain": [
       "<matplotlib.collections.PathCollection at 0x1df0b61fc08>"
      ]
     },
     "execution_count": 29,
     "metadata": {},
     "output_type": "execute_result"
    },
    {
     "data": {
      "image/png": "[encoded data removed]",
      "text/plain": [
       "<Figure size 640x480 with 1 Axes>"
      ]
     },
     "metadata": {},
     "output_type": "display_data"
    }
   ],
   "source": [
    "plt.scatter(regr_fit.predict(),regr_fit.resid_pearson)"
   ]
  },
  {
   "cell_type": "code",
   "execution_count": 30,
   "metadata": {},
   "outputs": [
    {
     "data": {
      "text/html": [
       "<div>\n",
       "<style scoped>\n",
       "    .dataframe tbody tr th:only-of-type {\n",
       "        vertical-align: middle;\n",
       "    }\n",
       "\n",
       "    .dataframe tbody tr th {\n",
       "        vertical-align: top;\n",
       "    }\n",
       "\n",
       "    .dataframe thead th {\n",
       "        text-align: right;\n",
       "    }\n",
       "</style>\n",
       "<table border=\"1\" class=\"dataframe\">\n",
       "  <thead>\n",
       "    <tr style=\"text-align: right;\">\n",
       "      <th></th>\n",
       "      <th>student_resid</th>\n",
       "      <th>unadj_p</th>\n",
       "      <th>bonf(p)</th>\n",
       "    </tr>\n",
       "  </thead>\n",
       "  <tbody>\n",
       "    <tr>\n",
       "      <th>1</th>\n",
       "      <td>-0.938639</td>\n",
       "      <td>0.348367</td>\n",
       "      <td>1.0</td>\n",
       "    </tr>\n",
       "    <tr>\n",
       "      <th>2</th>\n",
       "      <td>-0.687511</td>\n",
       "      <td>0.492078</td>\n",
       "      <td>1.0</td>\n",
       "    </tr>\n",
       "    <tr>\n",
       "      <th>3</th>\n",
       "      <td>0.640666</td>\n",
       "      <td>0.522031</td>\n",
       "      <td>1.0</td>\n",
       "    </tr>\n",
       "    <tr>\n",
       "      <th>4</th>\n",
       "      <td>0.264236</td>\n",
       "      <td>0.791706</td>\n",
       "      <td>1.0</td>\n",
       "    </tr>\n",
       "    <tr>\n",
       "      <th>5</th>\n",
       "      <td>1.081882</td>\n",
       "      <td>0.279823</td>\n",
       "      <td>1.0</td>\n",
       "    </tr>\n",
       "    <tr>\n",
       "      <th>...</th>\n",
       "      <td>...</td>\n",
       "      <td>...</td>\n",
       "      <td>...</td>\n",
       "    </tr>\n",
       "    <tr>\n",
       "      <th>502</th>\n",
       "      <td>-0.477502</td>\n",
       "      <td>0.633212</td>\n",
       "      <td>1.0</td>\n",
       "    </tr>\n",
       "    <tr>\n",
       "      <th>503</th>\n",
       "      <td>-0.857915</td>\n",
       "      <td>0.391348</td>\n",
       "      <td>1.0</td>\n",
       "    </tr>\n",
       "    <tr>\n",
       "      <th>504</th>\n",
       "      <td>-0.853387</td>\n",
       "      <td>0.393851</td>\n",
       "      <td>1.0</td>\n",
       "    </tr>\n",
       "    <tr>\n",
       "      <th>505</th>\n",
       "      <td>-1.031090</td>\n",
       "      <td>0.302994</td>\n",
       "      <td>1.0</td>\n",
       "    </tr>\n",
       "    <tr>\n",
       "      <th>506</th>\n",
       "      <td>-2.455825</td>\n",
       "      <td>0.014393</td>\n",
       "      <td>1.0</td>\n",
       "    </tr>\n",
       "  </tbody>\n",
       "</table>\n",
       "<p>506 rows × 3 columns</p>\n",
       "</div>"
      ],
      "text/plain": [
       "     student_resid   unadj_p  bonf(p)\n",
       "1        -0.938639  0.348367      1.0\n",
       "2        -0.687511  0.492078      1.0\n",
       "3         0.640666  0.522031      1.0\n",
       "4         0.264236  0.791706      1.0\n",
       "5         1.081882  0.279823      1.0\n",
       "..             ...       ...      ...\n",
       "502      -0.477502  0.633212      1.0\n",
       "503      -0.857915  0.391348      1.0\n",
       "504      -0.853387  0.393851      1.0\n",
       "505      -1.031090  0.302994      1.0\n",
       "506      -2.455825  0.014393      1.0\n",
       "\n",
       "[506 rows x 3 columns]"
      ]
     },
     "execution_count": 30,
     "metadata": {},
     "output_type": "execute_result"
    }
   ],
   "source": [
    "# getting the studentized residual\n",
    "regr_fit.outlier_test()"
   ]
  },
  {
   "cell_type": "code",
   "execution_count": 31,
   "metadata": {},
   "outputs": [
    {
     "data": {
      "text/plain": [
       "<matplotlib.collections.PathCollection at 0x1df0b779248>"
      ]
     },
     "execution_count": 31,
     "metadata": {},
     "output_type": "execute_result"
    },
    {
     "data": {
      "image/png": "[encoded data removed]",
      "text/plain": [
       "<Figure size 640x480 with 1 Axes>"
      ]
     },
     "metadata": {},
     "output_type": "display_data"
    }
   ],
   "source": [
    "#plot of predicted values and studentized residuals\n",
    "plt.scatter(regr_fit.predict(),regr_fit.outlier_test()['student_resid'])"
   ]
  },
  {
   "cell_type": "code",
   "execution_count": 32,
   "metadata": {},
   "outputs": [
    {
     "data": {
      "text/plain": [
       "array([-9.36747030e-01, -6.87026125e-01,  6.39480571e-01,  2.63733496e-01,\n",
       "        1.07950142e+00, -1.45450224e-01,  2.49804654e-02,  1.72780216e+00,\n",
       "        1.67013134e+00,  9.52422602e-02, -2.01635177e-02, -4.90154986e-01,\n",
       "        3.33255199e-01, -1.01458757e+00, -1.06283609e+00, -1.06293075e+00,\n",
       "       -8.36987881e-01, -5.01405565e-01, -5.22504685e-01, -9.06933955e-01,\n",
       "       -1.58275641e-01, -2.91944702e-01, -2.52409500e-01, -1.87725982e-01,\n",
       "       -5.57942422e-01, -7.99343238e-01, -6.24800458e-01, -5.36859182e-01,\n",
       "       -6.42432927e-01, -3.49474478e-01, -6.15733972e-02, -1.23318738e+00,\n",
       "        7.99906430e-01, -6.46813097e-01, -2.78298536e-01, -1.03886938e+00,\n",
       "       -5.97477623e-01, -8.40107679e-01, -3.69771212e-02,  5.63683775e-02,\n",
       "        3.58324114e-01, -5.39853821e-01, -6.00739715e-01, -4.48130801e-01,\n",
       "       -6.88712124e-01, -8.93508857e-01, -1.78681682e-01, -1.49479746e-02,\n",
       "        1.46678429e+00,  3.81222306e-02, -3.33937754e-01, -8.19670505e-01,\n",
       "       -7.30012098e-01, -5.05959790e-01, -2.56301778e-01,  8.71316807e-01,\n",
       "       -7.03382342e-01,  1.28520731e-01, -7.62014943e-01, -9.96561230e-01,\n",
       "       -5.40672687e-01, -7.77882012e-01, -9.58854322e-01, -8.50052100e-02,\n",
       "        9.80420097e-01, -1.06456973e+00, -8.72835364e-01, -7.81632624e-01,\n",
       "       -7.58989171e-01, -8.53138910e-01, -6.38620050e-01, -5.57832516e-01,\n",
       "       -1.04726824e+00, -6.41992048e-01, -6.45537472e-01, -7.49771444e-01,\n",
       "       -5.11884292e-01, -6.43016100e-01, -2.62273921e-01, -9.02285705e-01,\n",
       "       -2.45839559e-01, -6.10461842e-01, -5.42091233e-01, -7.27018086e-01,\n",
       "       -2.43633280e-01, -2.81545376e-01,  2.63513712e-02, -6.97488972e-01,\n",
       "       -9.21620053e-01, -7.05560598e-02, -5.76583690e-01, -7.66348100e-01,\n",
       "       -6.27668684e-01, -5.87866030e-01, -6.26281898e-01,  2.63825039e-02,\n",
       "       -3.82942883e-01,  1.31051816e+00,  2.03319216e+00,  7.28304234e-01,\n",
       "        3.04970576e-01, -1.23389945e-01, -9.41930812e-01, -3.99818751e-01,\n",
       "       -4.40771872e-01,  9.54785800e-02,  4.30209642e-01, -1.23499851e-01,\n",
       "       -4.98206994e-01, -6.12271715e-02, -8.09553856e-02, -3.38066352e-01,\n",
       "       -5.68781343e-02,  6.15375355e-02, -9.85531091e-01, -2.06099171e-01,\n",
       "       -3.08127491e-01, -8.95840923e-01,  7.21420484e-02, -3.73835062e-01,\n",
       "        1.76706994e-01, -1.12075845e-01,  4.79513984e-01,  1.10797598e+00,\n",
       "        1.52519836e-01,  1.47430079e-01,  1.13332948e+00, -3.25381346e-01,\n",
       "       -3.10916316e-01, -4.55283915e-01, -5.44296884e-01, -5.31911719e-01,\n",
       "       -1.59158655e-01, -3.01588055e-01, -4.03568735e-01, -5.48611622e-02,\n",
       "       -1.76648830e-01, -5.77985729e-01, -1.60686480e-01,  1.26142280e-01,\n",
       "        3.86010938e-01,  2.01702713e+00,  6.96050444e-01,  9.88851347e-01,\n",
       "        8.16167993e-01,  9.10191318e-01, -5.04446590e-01,  1.30331866e+00,\n",
       "        1.63319629e+00,  1.97034261e-01,  5.49980994e-02, -3.76009580e-01,\n",
       "       -1.24509991e+00, -2.45443154e-02, -5.13065891e-01, -7.53584321e-01,\n",
       "       -9.84601064e-01,  1.78689089e+00, -6.66857032e-01, -6.81006969e-01,\n",
       "       -3.74623422e-01,  2.74942137e+00,  2.77846197e+00,  2.99244529e+00,\n",
       "       -1.27943542e-01, -3.76231875e-02,  3.05052648e+00,  1.25448573e-01,\n",
       "       -3.35104700e-02, -2.41206562e-01, -5.54176558e-01, -6.47506804e-01,\n",
       "        4.02586967e-01, -3.80547924e-01, -4.49722146e-01, -1.44918430e-02,\n",
       "       -2.81356069e-01, -6.39990956e-01,  3.08972760e-01,  1.19605766e+00,\n",
       "        1.99951919e+00,  1.70922378e+00,  1.27504866e+00,  5.37736211e-01,\n",
       "        8.24975345e-01,  1.21293416e+00,  3.16516041e+00,  6.10140764e-01,\n",
       "       -6.78301284e-02,  8.79526362e-01,  1.17305210e+00,  6.46567055e-02,\n",
       "        7.35678415e-01,  2.13152902e-01, -2.07959224e-01,  2.93894946e+00,\n",
       "        4.21888926e-01,  6.31633750e-01,  1.01926159e+00,  7.52664818e-01,\n",
       "        4.14089118e-01, -5.46188070e-01,  1.72156131e+00,  2.82601742e+00,\n",
       "        2.92519339e+00, -2.61722508e-01,  4.31484668e-02,  8.21146588e-01,\n",
       "        6.07147380e-01,  1.18775471e+00,  5.71693764e-01,  1.21117002e+00,\n",
       "        4.94782627e-01,  3.95385584e-01,  2.77039596e+00, -8.95905670e-02,\n",
       "        2.54405863e-01,  5.39296424e-01,  6.38866893e-01, -2.53922700e-01,\n",
       "        2.20590605e-01,  1.21211529e+00,  3.82921646e-01,  4.45083792e-01,\n",
       "        2.28119530e+00,  3.19267255e+00,  9.68475811e-01,  4.96877744e-01,\n",
       "        2.55324394e+00,  8.33919998e-02,  1.30995090e-01,  3.43307671e-01,\n",
       "        1.52721154e+00,  2.81523948e+00,  3.36894649e-01, -3.49601491e-02,\n",
       "       -6.28032645e-02,  2.31651877e-01, -7.74085015e-01, -6.84063874e-01,\n",
       "       -2.80300256e-01, -4.30072705e-01, -2.72579221e-01, -9.52913939e-01,\n",
       "       -8.16991587e-01,  2.38759234e-01, -2.49589543e-01, -7.09621937e-01,\n",
       "       -1.62388986e-01, -3.41312564e-01, -7.31776870e-01, -1.02049682e+00,\n",
       "       -2.57436992e-01,  1.86772544e+00, -1.03157397e+00, -7.82830103e-01,\n",
       "        1.99505962e+00,  3.26756672e+00,  1.42332442e+00,  3.38092128e-01,\n",
       "        1.34450685e+00,  2.48457412e+00,  3.19525682e+00,  1.14776212e+00,\n",
       "        1.55114713e+00, -2.93741234e-01,  1.64056984e+00,  3.62216766e+00,\n",
       "        1.92226120e+00, -1.42487346e-01, -1.77484203e-01, -4.97608569e-01,\n",
       "       -4.52070091e-01,  1.10967660e+00,  1.93030822e-01,  4.46133983e-02,\n",
       "        7.06905901e-01,  4.01940273e-01,  2.21535884e-01,  8.29166208e-01,\n",
       "        2.31964293e+00,  8.37690856e-01,  2.30153782e+00,  2.96799006e+00,\n",
       "        8.21145960e-01, -7.61762743e-01, -3.49064731e-01, -7.35306414e-01,\n",
       "       -8.09790832e-01, -1.15653030e-01, -4.64975537e-01,  9.85934853e-01,\n",
       "       -3.52106383e-01, -4.02592324e-01, -4.78352994e-01,  4.77587372e-04,\n",
       "       -6.96577936e-02,  1.27891172e-01, -1.17959753e+00, -1.69023076e-01,\n",
       "       -6.41440635e-01, -5.67649296e-01,  1.33671526e-02,  5.08931936e-01,\n",
       "        1.30796566e+00,  3.74869637e-01,  8.03277172e-01,  1.28710037e-01,\n",
       "       -1.19705657e+00, -7.69310352e-01, -1.03691530e+00, -1.08957638e+00,\n",
       "       -6.46624418e-01, -8.76554215e-01, -3.11688796e-01, -1.19507073e+00,\n",
       "        1.06272400e-01,  6.27350146e-02, -2.59232897e-01, -2.34840552e-01,\n",
       "       -6.29606883e-01, -7.92662763e-01, -1.10018090e+00, -7.88360739e-01,\n",
       "       -6.01622101e-01, -8.24933689e-01, -9.18799468e-01, -3.26122038e-02,\n",
       "       -9.30191714e-01, -8.01266184e-01, -9.84254838e-01, -9.08131434e-01,\n",
       "       -1.24119238e+00, -1.11934182e+00, -1.19711946e+00, -9.40181921e-01,\n",
       "       -9.23999131e-01, -9.68718115e-01, -9.44199985e-01, -1.01361053e+00,\n",
       "       -1.13065529e+00,  5.40871889e-01, -1.58241524e+00, -6.16575651e-01,\n",
       "        1.65046040e-01, -1.13418483e+00, -8.55360442e-01, -8.70613833e-01,\n",
       "       -7.01932662e-01, -3.79366326e-01, -9.60871294e-01, -8.42707824e-01,\n",
       "       -1.37601128e+00, -2.87364338e-02, -1.40062406e+00, -1.39356497e+00,\n",
       "       -5.30462101e-03, -3.96871724e-02, -1.52398779e-01,  1.33989130e-02,\n",
       "       -3.46370560e-01, -1.88656009e-01, -6.55243719e-01, -6.18607876e-01,\n",
       "       -1.22721587e+00, -4.65734619e-02,  1.04066121e-01,  1.94717448e-01,\n",
       "        2.98327458e+00,  3.05511184e+00,  2.93742101e+00,  3.94161420e+00,\n",
       "        3.84226480e+00,  1.97552260e+00,  2.46462735e+00, -1.09160861e+00,\n",
       "        2.29305187e-01, -1.72914098e-01,  1.69380453e-01, -5.89109894e-01,\n",
       "       -1.25543634e+00, -5.83484605e-01, -1.33962070e-01,  1.73650717e-01,\n",
       "        5.38336520e-01,  3.08438483e-01,  4.52648536e-01,  5.20972132e-01,\n",
       "        7.62041975e-01, -5.22110191e-01, -5.14578463e-01,  1.04075521e+00,\n",
       "       -7.34541625e-02, -1.02024399e+00, -1.01685611e+00, -8.34812735e-01,\n",
       "       -5.87439775e-01, -1.14690034e+00, -7.91264650e-02,  3.52552606e-02,\n",
       "       -5.66466442e-01, -1.29490802e+00, -5.08117800e-01, -1.20200340e+00,\n",
       "       -6.67489909e-03, -1.24227870e+00, -7.71730137e-02,  7.83533705e-01,\n",
       "        1.24320462e+00,  1.88844720e+00, -1.60058324e+00,  4.51466309e-01,\n",
       "        2.57399809e+00,  1.32429516e-01,  1.21931730e+00,  3.94308711e-02,\n",
       "       -4.10580183e-01,  1.85894216e-01, -9.91644272e-01, -7.31964921e-01,\n",
       "       -5.76614823e-01, -8.74883469e-01, -5.76188540e-02,  1.56506768e-01,\n",
       "       -1.05393283e+00, -4.95858421e-01, -1.51993737e+00, -1.58614934e+00,\n",
       "       -5.00144565e-01, -3.50182809e-01, -5.30099306e-01, -2.81119121e-01,\n",
       "       -1.13015089e+00, -7.79315811e-01, -1.35809485e+00,  1.53449863e-01,\n",
       "       -1.25575143e+00, -1.16644694e-01,  9.92129319e-01, -2.68859549e-03,\n",
       "       -4.90406558e-01,  1.75541275e-01, -6.31494902e-02, -2.00363347e-01,\n",
       "       -1.85362157e-01,  4.55979991e-03, -4.42819976e-01, -1.01918817e+00,\n",
       "       -5.19557686e-01, -5.16169809e-01, -7.37637851e-01, -4.03726282e-01,\n",
       "       -3.29241864e-01, -1.36751522e-01, -3.02202361e-01, -5.19557686e-01,\n",
       "       -6.10287787e-01, -7.97972332e-01, -6.81258541e-01, -9.46168032e-02,\n",
       "       -4.10895904e-01, -4.72286198e-01, -2.83577600e-01, -7.36488013e-01,\n",
       "       -9.55938427e-02, -1.97826723e-01,  1.18972658e-01,  7.72425420e-01,\n",
       "        2.84849124e-01, -6.93579530e-02,  1.32318983e-01, -4.38676126e-01,\n",
       "        3.68236176e-01,  1.01737103e+00, -5.66293643e-01,  2.64223271e-01,\n",
       "       -1.72012665e-02,  1.78882140e-01, -4.54401529e-01, -1.12406818e-01,\n",
       "       -2.17239844e-01, -5.63158593e-01, -4.65589843e-01, -4.59207953e-01,\n",
       "       -2.05957504e-01, -5.31281533e-01, -1.96613364e-01, -4.94834997e-01,\n",
       "       -3.53287355e-01, -7.69199190e-01,  2.80516594e-01, -6.09169081e-01,\n",
       "       -2.84869733e-01, -2.16184031e-01,  4.59691116e-01,  8.47366598e-01,\n",
       "        8.41442095e-01, -4.59822259e-01, -1.73623685e-01, -4.35682115e-01,\n",
       "       -6.65989898e-01, -4.77313061e-01, -8.57078201e-01, -8.51957312e-01,\n",
       "       -1.02924190e+00, -2.44016033e+00])"
      ]
     },
     "execution_count": 32,
     "metadata": {},
     "output_type": "execute_result"
    }
   ],
   "source": [
    "regr_fit.resid_pearson"
   ]
  },
  {
   "cell_type": "code",
   "execution_count": 33,
   "metadata": {},
   "outputs": [
    {
     "data": {
      "text/plain": [
       "1      -5.822595\n",
       "2      -4.270390\n",
       "3       3.974858\n",
       "4       1.639304\n",
       "5       6.709922\n",
       "         ...    \n",
       "502    -2.966864\n",
       "503    -5.327393\n",
       "504    -5.295563\n",
       "505    -6.397521\n",
       "506   -15.167452\n",
       "Length: 506, dtype: float64"
      ]
     },
     "execution_count": 33,
     "metadata": {},
     "output_type": "execute_result"
    }
   ],
   "source": [
    "regr_fit.resid"
   ]
  },
  {
   "cell_type": "code",
   "execution_count": 39,
   "metadata": {},
   "outputs": [
    {
     "data": {
      "text/html": [
       "<div>\n",
       "<style scoped>\n",
       "    .dataframe tbody tr th:only-of-type {\n",
       "        vertical-align: middle;\n",
       "    }\n",
       "\n",
       "    .dataframe tbody tr th {\n",
       "        vertical-align: top;\n",
       "    }\n",
       "\n",
       "    .dataframe thead th {\n",
       "        text-align: right;\n",
       "    }\n",
       "</style>\n",
       "<table border=\"1\" class=\"dataframe\">\n",
       "  <thead>\n",
       "    <tr style=\"text-align: right;\">\n",
       "      <th></th>\n",
       "      <th>dfb_Intercept</th>\n",
       "      <th>dfb_lstat</th>\n",
       "      <th>cooks_d</th>\n",
       "      <th>standard_resid</th>\n",
       "      <th>hat_diag</th>\n",
       "      <th>dffits_internal</th>\n",
       "      <th>student_resid</th>\n",
       "      <th>dffits</th>\n",
       "    </tr>\n",
       "  </thead>\n",
       "  <tbody>\n",
       "    <tr>\n",
       "      <th>1</th>\n",
       "      <td>-0.059716</td>\n",
       "      <td>0.044977</td>\n",
       "      <td>0.001886</td>\n",
       "      <td>-0.938750</td>\n",
       "      <td>0.004263</td>\n",
       "      <td>-0.061420</td>\n",
       "      <td>-0.938639</td>\n",
       "      <td>-0.061413</td>\n",
       "    </tr>\n",
       "    <tr>\n",
       "      <th>2</th>\n",
       "      <td>-0.028156</td>\n",
       "      <td>0.015069</td>\n",
       "      <td>0.000582</td>\n",
       "      <td>-0.687871</td>\n",
       "      <td>0.002456</td>\n",
       "      <td>-0.034128</td>\n",
       "      <td>-0.687511</td>\n",
       "      <td>-0.034110</td>\n",
       "    </tr>\n",
       "    <tr>\n",
       "      <th>3</th>\n",
       "      <td>0.044083</td>\n",
       "      <td>-0.034510</td>\n",
       "      <td>0.001004</td>\n",
       "      <td>0.641041</td>\n",
       "      <td>0.004864</td>\n",
       "      <td>0.044815</td>\n",
       "      <td>0.640666</td>\n",
       "      <td>0.044789</td>\n",
       "    </tr>\n",
       "    <tr>\n",
       "      <th>4</th>\n",
       "      <td>0.019757</td>\n",
       "      <td>-0.016039</td>\n",
       "      <td>0.000198</td>\n",
       "      <td>0.264480</td>\n",
       "      <td>0.005640</td>\n",
       "      <td>0.019918</td>\n",
       "      <td>0.264236</td>\n",
       "      <td>0.019900</td>\n",
       "    </tr>\n",
       "    <tr>\n",
       "      <th>5</th>\n",
       "      <td>0.066762</td>\n",
       "      <td>-0.049471</td>\n",
       "      <td>0.002384</td>\n",
       "      <td>1.081699</td>\n",
       "      <td>0.004059</td>\n",
       "      <td>0.069053</td>\n",
       "      <td>1.081882</td>\n",
       "      <td>0.069065</td>\n",
       "    </tr>\n",
       "    <tr>\n",
       "      <th>...</th>\n",
       "      <td>...</td>\n",
       "      <td>...</td>\n",
       "      <td>...</td>\n",
       "      <td>...</td>\n",
       "      <td>...</td>\n",
       "      <td>...</td>\n",
       "      <td>...</td>\n",
       "      <td>...</td>\n",
       "    </tr>\n",
       "    <tr>\n",
       "      <th>502</th>\n",
       "      <td>-0.018179</td>\n",
       "      <td>0.008887</td>\n",
       "      <td>0.000266</td>\n",
       "      <td>-0.477868</td>\n",
       "      <td>0.002322</td>\n",
       "      <td>-0.023053</td>\n",
       "      <td>-0.477502</td>\n",
       "      <td>-0.023035</td>\n",
       "    </tr>\n",
       "    <tr>\n",
       "      <th>503</th>\n",
       "      <td>-0.035414</td>\n",
       "      <td>0.019126</td>\n",
       "      <td>0.000912</td>\n",
       "      <td>-0.858140</td>\n",
       "      <td>0.002472</td>\n",
       "      <td>-0.042719</td>\n",
       "      <td>-0.857915</td>\n",
       "      <td>-0.042708</td>\n",
       "    </tr>\n",
       "    <tr>\n",
       "      <th>504</th>\n",
       "      <td>-0.051219</td>\n",
       "      <td>0.037367</td>\n",
       "      <td>0.001421</td>\n",
       "      <td>-0.853618</td>\n",
       "      <td>0.003886</td>\n",
       "      <td>-0.053317</td>\n",
       "      <td>-0.853387</td>\n",
       "      <td>-0.053303</td>\n",
       "    </tr>\n",
       "    <tr>\n",
       "      <th>505</th>\n",
       "      <td>-0.057161</td>\n",
       "      <td>0.039732</td>\n",
       "      <td>0.001843</td>\n",
       "      <td>-1.031025</td>\n",
       "      <td>0.003456</td>\n",
       "      <td>-0.060717</td>\n",
       "      <td>-1.031090</td>\n",
       "      <td>-0.060721</td>\n",
       "    </tr>\n",
       "    <tr>\n",
       "      <th>506</th>\n",
       "      <td>-0.117415</td>\n",
       "      <td>0.073149</td>\n",
       "      <td>0.008567</td>\n",
       "      <td>-2.443658</td>\n",
       "      <td>0.002861</td>\n",
       "      <td>-0.130893</td>\n",
       "      <td>-2.455825</td>\n",
       "      <td>-0.131545</td>\n",
       "    </tr>\n",
       "  </tbody>\n",
       "</table>\n",
       "<p>506 rows × 8 columns</p>\n",
       "</div>"
      ],
      "text/plain": [
       "     dfb_Intercept  dfb_lstat   cooks_d  standard_resid  hat_diag  \\\n",
       "1        -0.059716   0.044977  0.001886       -0.938750  0.004263   \n",
       "2        -0.028156   0.015069  0.000582       -0.687871  0.002456   \n",
       "3         0.044083  -0.034510  0.001004        0.641041  0.004864   \n",
       "4         0.019757  -0.016039  0.000198        0.264480  0.005640   \n",
       "5         0.066762  -0.049471  0.002384        1.081699  0.004059   \n",
       "..             ...        ...       ...             ...       ...   \n",
       "502      -0.018179   0.008887  0.000266       -0.477868  0.002322   \n",
       "503      -0.035414   0.019126  0.000912       -0.858140  0.002472   \n",
       "504      -0.051219   0.037367  0.001421       -0.853618  0.003886   \n",
       "505      -0.057161   0.039732  0.001843       -1.031025  0.003456   \n",
       "506      -0.117415   0.073149  0.008567       -2.443658  0.002861   \n",
       "\n",
       "     dffits_internal  student_resid    dffits  \n",
       "1          -0.061420      -0.938639 -0.061413  \n",
       "2          -0.034128      -0.687511 -0.034110  \n",
       "3           0.044815       0.640666  0.044789  \n",
       "4           0.019918       0.264236  0.019900  \n",
       "5           0.069053       1.081882  0.069065  \n",
       "..               ...            ...       ...  \n",
       "502        -0.023053      -0.477502 -0.023035  \n",
       "503        -0.042719      -0.857915 -0.042708  \n",
       "504        -0.053317      -0.853387 -0.053303  \n",
       "505        -0.060717      -1.031090 -0.060721  \n",
       "506        -0.130893      -2.455825 -0.131545  \n",
       "\n",
       "[506 rows x 8 columns]"
      ]
     },
     "execution_count": 39,
     "metadata": {},
     "output_type": "execute_result"
    }
   ],
   "source": [
    "regr_fit.get_influence().summary_frame()"
   ]
  },
  {
   "cell_type": "code",
   "execution_count": 38,
   "metadata": {},
   "outputs": [
    {
     "data": {
      "text/plain": [
       "375"
      ]
     },
     "execution_count": 38,
     "metadata": {},
     "output_type": "execute_result"
    }
   ],
   "source": [
    "regr_fit.get_influence().summary_frame()['hat_diag'].idxmax()"
   ]
  },
  {
   "cell_type": "code",
   "execution_count": null,
   "metadata": {},
   "outputs": [],
   "source": []
  }
 ],
 "metadata": {
  "kernelspec": {
   "display_name": "Python 3.7.3 ('islr_env')",
   "language": "python",
   "name": "python3"
  },
  "language_info": {
   "codemirror_mode": {
    "name": "ipython",
    "version": 3
   },
   "file_extension": ".py",
   "mimetype": "text/x-python",
   "name": "python",
   "nbconvert_exporter": "python",
   "pygments_lexer": "ipython3",
   "version": "3.7.15"
  },
  "orig_nbformat": 4,
  "vscode": {
   "interpreter": {
    "hash": "f9e222b5cb9dde8b4196dab500f12056f593968e4d929d8503fd2e1057b364f6"
   }
  }
 },
 "nbformat": 4,
 "nbformat_minor": 2
}
