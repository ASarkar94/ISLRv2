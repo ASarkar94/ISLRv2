{
 "cells": [
  {
   "cell_type": "code",
   "execution_count": 8,
   "metadata": {},
   "outputs": [],
   "source": [
    "import statsmodels.api as sm"
   ]
  },
  {
   "cell_type": "code",
   "execution_count": 2,
   "metadata": {},
   "outputs": [
    {
     "data": {
      "text/plain": [
       "['BayesGaussMI',\n",
       " 'BinomialBayesMixedGLM',\n",
       " 'Factor',\n",
       " 'GEE',\n",
       " 'GLM',\n",
       " 'GLMGam',\n",
       " 'GLS',\n",
       " 'GLSAR',\n",
       " 'GeneralizedPoisson',\n",
       " 'Logit',\n",
       " 'MANOVA',\n",
       " 'MI',\n",
       " 'MICE',\n",
       " 'MICEData',\n",
       " 'MNLogit',\n",
       " 'MixedLM',\n",
       " 'NegativeBinomial',\n",
       " 'NegativeBinomialP',\n",
       " 'NominalGEE',\n",
       " 'OLS',\n",
       " 'OrdinalGEE',\n",
       " 'PCA',\n",
       " 'PHReg',\n",
       " 'Poisson',\n",
       " 'PoissonBayesMixedGLM',\n",
       " 'ProbPlot',\n",
       " 'Probit',\n",
       " 'QuantReg',\n",
       " 'RLM',\n",
       " 'RecursiveLS',\n",
       " 'SurvfuncRight',\n",
       " 'WLS',\n",
       " 'ZeroInflatedGeneralizedPoisson',\n",
       " 'ZeroInflatedNegativeBinomialP',\n",
       " 'ZeroInflatedPoisson',\n",
       " '__all__',\n",
       " '__builtins__',\n",
       " '__cached__',\n",
       " '__doc__',\n",
       " '__file__',\n",
       " '__loader__',\n",
       " '__name__',\n",
       " '__package__',\n",
       " '__spec__',\n",
       " '__version__',\n",
       " 'add_constant',\n",
       " 'categorical',\n",
       " 'cov_struct',\n",
       " 'datasets',\n",
       " 'distributions',\n",
       " 'duration',\n",
       " 'emplike',\n",
       " 'families',\n",
       " 'formula',\n",
       " 'gam',\n",
       " 'genmod',\n",
       " 'graphics',\n",
       " 'iolib',\n",
       " 'load',\n",
       " 'load_pickle',\n",
       " 'multivariate',\n",
       " 'nonparametric',\n",
       " 'qqline',\n",
       " 'qqplot',\n",
       " 'qqplot_2samples',\n",
       " 'regression',\n",
       " 'robust',\n",
       " 'show_versions',\n",
       " 'stats',\n",
       " 'test',\n",
       " 'tools',\n",
       " 'tsa',\n",
       " 'webdoc']"
      ]
     },
     "execution_count": 2,
     "metadata": {},
     "output_type": "execute_result"
    }
   ],
   "source": [
    "dir(sm)"
   ]
  },
  {
   "cell_type": "code",
   "execution_count": 3,
   "metadata": {},
   "outputs": [
    {
     "data": {
      "text/plain": [
       "['__all__',\n",
       " '__builtins__',\n",
       " '__cached__',\n",
       " '__doc__',\n",
       " '__file__',\n",
       " '__loader__',\n",
       " '__name__',\n",
       " '__package__',\n",
       " '__spec__',\n",
       " 'abline_plot',\n",
       " 'beanplot',\n",
       " 'fboxplot',\n",
       " 'hdrboxplot',\n",
       " 'influence_plot',\n",
       " 'interaction_plot',\n",
       " 'mean_diff_plot',\n",
       " 'plot_ccpr',\n",
       " 'plot_ccpr_grid',\n",
       " 'plot_corr',\n",
       " 'plot_corr_grid',\n",
       " 'plot_fit',\n",
       " 'plot_leverage_resid2',\n",
       " 'plot_partregress',\n",
       " 'plot_partregress_grid',\n",
       " 'plot_regress_exog',\n",
       " 'qqplot',\n",
       " 'rainbow',\n",
       " 'rainbowplot',\n",
       " 'tsa',\n",
       " 'violinplot']"
      ]
     },
     "execution_count": 3,
     "metadata": {},
     "output_type": "execute_result"
    }
   ],
   "source": [
    "dir(sm.graphics)"
   ]
  },
  {
   "cell_type": "code",
   "execution_count": 4,
   "metadata": {},
   "outputs": [
    {
     "data": {
      "text/plain": [
       "['AR',\n",
       " 'ARDL',\n",
       " 'ARIMA',\n",
       " 'ArmaProcess',\n",
       " 'AutoReg',\n",
       " 'DynamicFactor',\n",
       " 'DynamicFactorMQ',\n",
       " 'ETSModel',\n",
       " 'ExponentialSmoothing',\n",
       " 'Holt',\n",
       " 'MarkovAutoregression',\n",
       " 'MarkovRegression',\n",
       " 'SARIMAX',\n",
       " 'STL',\n",
       " 'STLForecast',\n",
       " 'SVAR',\n",
       " 'SimpleExpSmoothing',\n",
       " 'UECM',\n",
       " 'UnobservedComponents',\n",
       " 'VAR',\n",
       " 'VARMAX',\n",
       " 'VECM',\n",
       " '__all__',\n",
       " '__builtins__',\n",
       " '__cached__',\n",
       " '__doc__',\n",
       " '__file__',\n",
       " '__loader__',\n",
       " '__name__',\n",
       " '__package__',\n",
       " '__spec__',\n",
       " 'acf',\n",
       " 'acovf',\n",
       " 'add_lag',\n",
       " 'add_trend',\n",
       " 'adfuller',\n",
       " 'ardl_select_order',\n",
       " 'arima',\n",
       " 'arma_generate_sample',\n",
       " 'arma_order_select_ic',\n",
       " 'bds',\n",
       " 'bk_filter',\n",
       " 'breakvar_heteroskedasticity_test',\n",
       " 'ccf',\n",
       " 'ccovf',\n",
       " 'cf_filter',\n",
       " 'coint',\n",
       " 'datetools',\n",
       " 'detrend',\n",
       " 'filters',\n",
       " 'graphics',\n",
       " 'hp_filter',\n",
       " 'innovations',\n",
       " 'interp',\n",
       " 'kpss',\n",
       " 'lagmat',\n",
       " 'lagmat2ds',\n",
       " 'pacf',\n",
       " 'pacf_ols',\n",
       " 'pacf_yw',\n",
       " 'q_stat',\n",
       " 'range_unit_root_test',\n",
       " 'seasonal_decompose',\n",
       " 'statespace',\n",
       " 'stattools',\n",
       " 'tsatools',\n",
       " 'var',\n",
       " 'x13_arima_analysis',\n",
       " 'x13_arima_select_order',\n",
       " 'zivot_andrews']"
      ]
     },
     "execution_count": 4,
     "metadata": {},
     "output_type": "execute_result"
    }
   ],
   "source": [
    "dir(sm.tsa)"
   ]
  },
  {
   "cell_type": "code",
   "execution_count": 9,
   "metadata": {},
   "outputs": [
    {
     "ename": "ModuleNotFoundError",
     "evalue": "No module named 'sm'",
     "output_type": "error",
     "traceback": [
      "\u001b[1;31m---------------------------------------------------------------------------\u001b[0m",
      "\u001b[1;31mModuleNotFoundError\u001b[0m                       Traceback (most recent call last)",
      "\u001b[1;32m~\\AppData\\Local\\Temp\\ipykernel_22752\\516611276.py\u001b[0m in \u001b[0;36m<module>\u001b[1;34m\u001b[0m\n\u001b[1;32m----> 1\u001b[1;33m \u001b[1;32mimport\u001b[0m \u001b[0msm\u001b[0m\u001b[1;33m.\u001b[0m\u001b[0mnonparametric\u001b[0m\u001b[1;33m.\u001b[0m\u001b[0mapi\u001b[0m \u001b[1;32mas\u001b[0m \u001b[0mnonparametric\u001b[0m\u001b[1;33m\u001b[0m\u001b[1;33m\u001b[0m\u001b[0m\n\u001b[0m",
      "\u001b[1;31mModuleNotFoundError\u001b[0m: No module named 'sm'"
     ]
    }
   ],
   "source": [
    "import sm.nonparametric.api as nonparametric"
   ]
  },
  {
   "attachments": {},
   "cell_type": "markdown",
   "metadata": {},
   "source": [
    "Notice that we called statsmodels.formula.api in addition to the usual statsmodels.api. In fact, statsmodels.api is used here only to load the dataset. The formula.api hosts many of the same functions found in api (e.g. OLS, GLM), but it also holds lower case counterparts for most of these models. In general, lower case models accept formula and df arguments, whereas upper case ones take endog and exog design matrices. formula accepts a string which describes the model in terms of a patsy formula. df takes a pandas data frame."
   ]
  },
  {
   "cell_type": "code",
   "execution_count": 10,
   "metadata": {},
   "outputs": [],
   "source": [
    "import pandas as pd\n",
    "\n",
    "df= sm.datasets.get_rdataset(\"Guerry\",\"HistData\").data"
   ]
  },
  {
   "cell_type": "code",
   "execution_count": 11,
   "metadata": {},
   "outputs": [],
   "source": [
    "df = df[['Lottery','Literacy','Wealth','Region']].dropna()"
   ]
  },
  {
   "cell_type": "code",
   "execution_count": 12,
   "metadata": {},
   "outputs": [
    {
     "data": {
      "text/html": [
       "<div>\n",
       "<style scoped>\n",
       "    .dataframe tbody tr th:only-of-type {\n",
       "        vertical-align: middle;\n",
       "    }\n",
       "\n",
       "    .dataframe tbody tr th {\n",
       "        vertical-align: top;\n",
       "    }\n",
       "\n",
       "    .dataframe thead th {\n",
       "        text-align: right;\n",
       "    }\n",
       "</style>\n",
       "<table border=\"1\" class=\"dataframe\">\n",
       "  <thead>\n",
       "    <tr style=\"text-align: right;\">\n",
       "      <th></th>\n",
       "      <th>Lottery</th>\n",
       "      <th>Literacy</th>\n",
       "      <th>Wealth</th>\n",
       "      <th>Region</th>\n",
       "    </tr>\n",
       "  </thead>\n",
       "  <tbody>\n",
       "    <tr>\n",
       "      <th>0</th>\n",
       "      <td>41</td>\n",
       "      <td>37</td>\n",
       "      <td>73</td>\n",
       "      <td>E</td>\n",
       "    </tr>\n",
       "    <tr>\n",
       "      <th>1</th>\n",
       "      <td>38</td>\n",
       "      <td>51</td>\n",
       "      <td>22</td>\n",
       "      <td>N</td>\n",
       "    </tr>\n",
       "    <tr>\n",
       "      <th>2</th>\n",
       "      <td>66</td>\n",
       "      <td>13</td>\n",
       "      <td>61</td>\n",
       "      <td>C</td>\n",
       "    </tr>\n",
       "    <tr>\n",
       "      <th>3</th>\n",
       "      <td>80</td>\n",
       "      <td>46</td>\n",
       "      <td>76</td>\n",
       "      <td>E</td>\n",
       "    </tr>\n",
       "    <tr>\n",
       "      <th>4</th>\n",
       "      <td>79</td>\n",
       "      <td>69</td>\n",
       "      <td>83</td>\n",
       "      <td>E</td>\n",
       "    </tr>\n",
       "  </tbody>\n",
       "</table>\n",
       "</div>"
      ],
      "text/plain": [
       "   Lottery  Literacy  Wealth Region\n",
       "0       41        37      73      E\n",
       "1       38        51      22      N\n",
       "2       66        13      61      C\n",
       "3       80        46      76      E\n",
       "4       79        69      83      E"
      ]
     },
     "execution_count": 12,
     "metadata": {},
     "output_type": "execute_result"
    }
   ],
   "source": [
    "df.head()"
   ]
  },
  {
   "cell_type": "code",
   "execution_count": 16,
   "metadata": {},
   "outputs": [
    {
     "name": "stdout",
     "output_type": "stream",
     "text": [
      "                            OLS Regression Results                            \n",
      "==============================================================================\n",
      "Dep. Variable:                Lottery   R-squared:                       0.338\n",
      "Model:                            OLS   Adj. R-squared:                  0.287\n",
      "Method:                 Least Squares   F-statistic:                     6.636\n",
      "Date:                Mon, 19 Dec 2022   Prob (F-statistic):           1.07e-05\n",
      "Time:                        23:50:25   Log-Likelihood:                -375.30\n",
      "No. Observations:                  85   AIC:                             764.6\n",
      "Df Residuals:                      78   BIC:                             781.7\n",
      "Df Model:                           6                                         \n",
      "Covariance Type:            nonrobust                                         \n",
      "===============================================================================\n",
      "                  coef    std err          t      P>|t|      [0.025      0.975]\n",
      "-------------------------------------------------------------------------------\n",
      "Intercept      38.6517      9.456      4.087      0.000      19.826      57.478\n",
      "Region[T.E]   -15.4278      9.727     -1.586      0.117     -34.793       3.938\n",
      "Region[T.N]   -10.0170      9.260     -1.082      0.283     -28.453       8.419\n",
      "Region[T.S]    -4.5483      7.279     -0.625      0.534     -19.039       9.943\n",
      "Region[T.W]   -10.0913      7.196     -1.402      0.165     -24.418       4.235\n",
      "Literacy       -0.1858      0.210     -0.886      0.378      -0.603       0.232\n",
      "Wealth          0.4515      0.103      4.390      0.000       0.247       0.656\n",
      "==============================================================================\n",
      "Omnibus:                        3.049   Durbin-Watson:                   1.785\n",
      "Prob(Omnibus):                  0.218   Jarque-Bera (JB):                2.694\n",
      "Skew:                          -0.340   Prob(JB):                        0.260\n",
      "Kurtosis:                       2.454   Cond. No.                         371.\n",
      "==============================================================================\n",
      "\n",
      "Notes:\n",
      "[1] Standard Errors assume that the covariance matrix of the errors is correctly specified.\n"
     ]
    }
   ],
   "source": [
    "import statsmodels.formula.api as smf\n",
    "\n",
    "mod = smf.ols(formula='Lottery ~ Literacy + Wealth+ Region', data = df)\n",
    "\n",
    "res = mod.fit()\n",
    "\n",
    "print(res.summary())"
   ]
  },
  {
   "cell_type": "code",
   "execution_count": null,
   "metadata": {},
   "outputs": [],
   "source": []
  }
 ],
 "metadata": {
  "kernelspec": {
   "display_name": "islr_env",
   "language": "python",
   "name": "python3"
  },
  "language_info": {
   "codemirror_mode": {
    "name": "ipython",
    "version": 3
   },
   "file_extension": ".py",
   "mimetype": "text/x-python",
   "name": "python",
   "nbconvert_exporter": "python",
   "pygments_lexer": "ipython3",
   "version": "3.7.15"
  },
  "orig_nbformat": 4,
  "vscode": {
   "interpreter": {
    "hash": "f9e222b5cb9dde8b4196dab500f12056f593968e4d929d8503fd2e1057b364f6"
   }
  }
 },
 "nbformat": 4,
 "nbformat_minor": 2
}
